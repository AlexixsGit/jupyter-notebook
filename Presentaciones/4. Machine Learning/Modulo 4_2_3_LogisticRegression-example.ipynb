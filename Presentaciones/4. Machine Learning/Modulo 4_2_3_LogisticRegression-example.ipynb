{
 "cells": [
  {
   "cell_type": "markdown",
   "metadata": {},
   "source": [
    " <img src=\"res/itm_logo.jpg\" width=\"300px\">\n",
    "\n",
    "## Inteligencia Artificial - IAI84\n",
    "### Instituto Tecnológico Metropolitano\n",
    "#### Pedro Atencio Ortiz - 2017\n",
    "\n",
    "\n",
    "En este notebook se aborda el tema de aprendizaje de máquina para clasificación binaria utilizando Regresión Logística:\n",
    "1. Propagación hacia adelante (forward propagation)\n",
    "2. Función de pérdida\n",
    "3. Función de costo\n",
    "4. Descenso del gradiente\n",
    "5. Predicción\n",
    "6. Regresión logística sobre un dataset"
   ]
  },
  {
   "cell_type": "markdown",
   "metadata": {},
   "source": [
    "<img src='res/logistic_regression/graph.png'>"
   ]
  },
  {
   "cell_type": "markdown",
   "metadata": {},
   "source": [
    "- La regresión logística se puede entender como una regresión lineal, acompañada de una función logística (sigmoide) que permite determinar la clase a la que pertenece un objeto.\n",
    "- Solo se aplica en problemas de clasificación binaria lineal."
   ]
  },
  {
   "cell_type": "code",
   "execution_count": 4,
   "metadata": {
    "collapsed": true
   },
   "outputs": [],
   "source": [
    "import numpy as np"
   ]
  },
  {
   "cell_type": "markdown",
   "metadata": {},
   "source": [
    "<hr>\n",
    "# 1. Propagación hacia adelante (backward propagation)\n",
    "<hr>\n",
    "## 1.1. Activación lineal (linear activation)\n",
    "\n",
    "A continuación implementemos la activación lineal definida como:\n",
    "\n",
    "## <center>$z = W^{T}X+b$</center>"
   ]
  },
  {
   "cell_type": "code",
   "execution_count": 12,
   "metadata": {
    "collapsed": true
   },
   "outputs": [],
   "source": [
    "'''\n",
    " Use numpy implementation of dot product np.dot(A,B) to multiply W.T and b\n",
    "'''\n",
    "def linear_activation(W, b, X):\n",
    "    z = None\n",
    "    \n",
    "    return z"
   ]
  },
  {
   "cell_type": "code",
   "execution_count": null,
   "metadata": {
    "collapsed": true
   },
   "outputs": [],
   "source": [
    "seed = 2 #to be able to verify your result\n",
    "np.random.seed(seed)\n",
    "W = np.random.randn(2,1)\n",
    "b = np.random.rand()\n",
    "X = np.random.randn(2, 3)\n",
    "\n",
    "print(linear_activation(W,b,X))"
   ]
  },
  {
   "cell_type": "markdown",
   "metadata": {},
   "source": [
    "Resultado esperado: __[[ 1.39865165  1.29546477  0.94717078]]__"
   ]
  },
  {
   "cell_type": "markdown",
   "metadata": {},
   "source": [
    "<hr>\n",
    "## 1.2. Activación logística (sigmoid activation)"
   ]
  },
  {
   "cell_type": "markdown",
   "metadata": {},
   "source": [
    "A continuación implementemos la función sigmoide definida como:\n",
    "\n",
    "## <center>$sig(z)=\\sigma(z) = \\frac{1}{1+e^{-z}}$</center>"
   ]
  },
  {
   "cell_type": "code",
   "execution_count": 2,
   "metadata": {
    "collapsed": true
   },
   "outputs": [],
   "source": [
    "'''\n",
    "Use numpy implementation for exponential e^k -- np.exp(k)\n",
    "'''\n",
    "def sigmoid(z):\n",
    "    '''\n",
    "    Returns sigmoid activation for array z\n",
    "    \n",
    "    Arguments:\n",
    "        z -- array of float values.\n",
    "    Returns:\n",
    "        a -- sigmoid activation.\n",
    "    '''\n",
    "    a = None \n",
    "    \n",
    "    return a "
   ]
  },
  {
   "cell_type": "code",
   "execution_count": null,
   "metadata": {
    "collapsed": true
   },
   "outputs": [],
   "source": [
    "seed = 2\n",
    "np.random.seed(seed)\n",
    "z = np.random.randn(1,3)\n",
    "print(sigmoid(z))"
   ]
  },
  {
   "cell_type": "markdown",
   "metadata": {},
   "source": [
    "Valor esperado = __[[ 0.39729283  0.485937    0.10562821]]__"
   ]
  },
  {
   "cell_type": "markdown",
   "metadata": {},
   "source": [
    "<hr>\n",
    "# 2. Función de perdida\n",
    "\n",
    "A continuación implementemos la función de perdida como:\n",
    "\n",
    "## <center>$loss(y, a)=L(y, a) = -(y.log(a)+(1-y).log(1-a))$</center>"
   ]
  },
  {
   "cell_type": "code",
   "execution_count": 23,
   "metadata": {
    "collapsed": true
   },
   "outputs": [],
   "source": [
    "'''\n",
    "Use np.log(a) to implement natural logarithm.\n",
    "'''\n",
    "def loss(y, a):\n",
    "    '''\n",
    "    Logistic loss implementation.\n",
    "    \n",
    "    Arguments:\n",
    "        y -- original labels.\n",
    "        a -- predicted labels from forward propagation.\n",
    "    '''\n",
    "    logloss = None\n",
    "    return logloss"
   ]
  },
  {
   "cell_type": "code",
   "execution_count": null,
   "metadata": {
    "collapsed": true
   },
   "outputs": [],
   "source": [
    "seed = 2 #to be able to verify your result\n",
    "np.random.seed(seed)\n",
    "W = np.random.randn(2,1)\n",
    "b = np.random.rand()\n",
    "X = np.random.randn(2, 3)\n",
    "\n",
    "Y = np.array([[1,1,0]]) #original labels for features X\n",
    "A = sigmoid(linear_activation(W,b,X)) #forward activation\n",
    "\n",
    "print(\"Perdida dato a dato: \", loss(Y, A))"
   ]
  },
  {
   "cell_type": "markdown",
   "metadata": {},
   "source": [
    "Resultado esperado: __[[ 0.22068428,  0.24198147,  1.27491702]]__"
   ]
  },
  {
   "cell_type": "markdown",
   "metadata": {},
   "source": [
    "<hr>\n",
    "# 3. Función de costo\n",
    "\n",
    "Implementos la función de costo definida como:\n",
    "\n",
    "## <center>$cost(logloss) = J(logloss) = \\frac{1}{m}\\sum^{i=1}_{m}logloss^{(i)}$</center>\n",
    "\n",
    "para $m$ ejemplos en el dataset $X$"
   ]
  },
  {
   "cell_type": "code",
   "execution_count": 26,
   "metadata": {
    "collapsed": true
   },
   "outputs": [],
   "source": [
    "'''\n",
    "Cost is defined as the mean of logistic loss.\n",
    "'''\n",
    "def cost(logloss):\n",
    "    return None"
   ]
  },
  {
   "cell_type": "code",
   "execution_count": null,
   "metadata": {
    "collapsed": true
   },
   "outputs": [],
   "source": [
    "logloss = np.array([[0.22068428,  0.24198147,  1.27491702]])\n",
    "print(\"costo: \", cost(logloss))"
   ]
  },
  {
   "cell_type": "markdown",
   "metadata": {},
   "source": [
    "Resultado esperado: __0.57919425666666668__"
   ]
  },
  {
   "cell_type": "markdown",
   "metadata": {},
   "source": [
    "<hr>\n",
    "# 4. Descenso del gradiente (Gradient Descent)\n",
    "\n",
    "El descenso del gradiente implica aplicar la regla de la cadena sobre el grafo de cómputo de la regresión logística y calcular las derivadas parciales de los parámetros $W$ y $b$ respecto a la función de pérdida. Posteriormente el negativo de la derivada de los parámetros se utiliza para actualizar los mismos.\n",
    "\n",
    "<img src='res/logistic_regression/graph_backward.png' width=700>\n",
    "\n",
    "<br>\n",
    "El algoritmo vectorizado del descenso del gradiente para la regresión logística es:\n",
    "\n",
    "<i>\n",
    "__FOR__ i=1->epochs:\n",
    "\n",
    "    //forward propagation\n",
    "    Z = W.T*X+b\n",
    "    A = sig(Z)\n",
    "    \n",
    "    //cálculo de los gradientes de los parámetros\n",
    "    dz = A-Y\n",
    "    dW = (X*dz.T) / m\n",
    "    db = sum(dz) / m\n",
    "    \n",
    "    //cálculo del costo\n",
    "    J = cost(loss(Y,A))\n",
    "    \n",
    "    //actualizacion de parametros\n",
    "    W = W - learning_rate*dW\n",
    "    b = b - learning_rate*db\n",
    "</i>"
   ]
  },
  {
   "cell_type": "code",
   "execution_count": 28,
   "metadata": {},
   "outputs": [
    {
     "name": "stdout",
     "output_type": "stream",
     "text": [
      "('m: ', 2)\n",
      "('W inicial: ', array([[ 0.1 ],\n",
      "       [-0.1 ],\n",
      "       [ 0.01]]))\n",
      "('b inicial: ', 0.1)\n"
     ]
    }
   ],
   "source": [
    "seed = 2\n",
    "np.random.seed(seed)\n",
    "\n",
    "X = np.random.rand(3,2)\n",
    "Y = np.array([[0, 1]])\n",
    "\n",
    "m = X.shape[1]\n",
    "\n",
    "W = np.array([[0.1], [-0.1], [0.01]])\n",
    "b = 0.1\n",
    "\n",
    "print(\"m: \", m)\n",
    "print(\"W inicial: \",W)\n",
    "print(\"b inicial: \",b)"
   ]
  },
  {
   "cell_type": "markdown",
   "metadata": {},
   "source": [
    "Utilicemos las funciones previamente diseñadas para completar el siguiente código"
   ]
  },
  {
   "cell_type": "code",
   "execution_count": null,
   "metadata": {
    "collapsed": true
   },
   "outputs": [],
   "source": [
    "learning_rate = 0.05\n",
    "\n",
    "for i in range(1000): #1000 iteraciones del descenso del gradiente\n",
    "    Z = None\n",
    "    A = None\n",
    "    \n",
    "    dz = None\n",
    "    dW = None\n",
    "    db = None\n",
    "    \n",
    "    J = None\n",
    "\n",
    "    W -= None\n",
    "    b -= None\n",
    "    \n",
    "    if(i%100 == 0):\n",
    "        print(\"costo: \", J)\n",
    "\n",
    "print(\"W actualizado: \",W)\n",
    "print(\"b actualizado: \",b)\n",
    "print(\"costo total: \", J)"
   ]
  },
  {
   "cell_type": "markdown",
   "metadata": {},
   "source": [
    "__Resultado esperado__: \n",
    "\n",
    "('costo: ', 0.35961193473699637)\n",
    "\n",
    "('costo: ', 0.34112286128068314)\n",
    "\n",
    "('costo: ', 0.32416576026635818)\n",
    "\n",
    "('costo: ', 0.3085804969161185)\n",
    "\n",
    "('costo: ', 0.29422579454831238)\n",
    "\n",
    "('costo: ', 0.28097695742118511)\n",
    "\n",
    "('costo: ', 0.26872383438602254)\n",
    "\n",
    "('costo: ', 0.25736901432660603)\n",
    "\n",
    "('costo: ', 0.24682623751141713)\n",
    "\n",
    "('costo: ', 0.23701900363846592)\n",
    "\n",
    "('W actualizado: ', array([[-4.43431392],\n",
    "       [-4.63431392],\n",
    "       [-4.52431392]]))\n",
    "       \n",
    "('b actualizado: ', 4.8105808996169204)\n",
    "\n",
    "('costo total: ', 0.22796765247707698)"
   ]
  },
  {
   "cell_type": "markdown",
   "metadata": {},
   "source": [
    "<hr>\n",
    "# 5. Predicción\n",
    "\n",
    "La predicción consiste en aplicar forward propagation utilizando los W y b optimizados mediante descenso del gradiente."
   ]
  },
  {
   "cell_type": "code",
   "execution_count": 29,
   "metadata": {
    "collapsed": true
   },
   "outputs": [],
   "source": [
    "def predict(W,b,X):\n",
    "    z = linear_activation(W,b,X)\n",
    "    A = sigmoid(z)\n",
    "    return np.round(A)"
   ]
  },
  {
   "cell_type": "markdown",
   "metadata": {},
   "source": [
    "<hr>\n",
    "# 6. Regresión Logística sobre un dataset"
   ]
  },
  {
   "cell_type": "code",
   "execution_count": 30,
   "metadata": {
    "collapsed": true
   },
   "outputs": [],
   "source": [
    "from utils import generate_data, visualize, plot_decision_boundary\n",
    "import matplotlib.pyplot as plt"
   ]
  },
  {
   "cell_type": "markdown",
   "metadata": {},
   "source": [
    "## 6.1.Generemos el dataset"
   ]
  },
  {
   "cell_type": "code",
   "execution_count": 42,
   "metadata": {
    "collapsed": true
   },
   "outputs": [],
   "source": [
    "X, Y = generate_data('blobs')"
   ]
  },
  {
   "cell_type": "code",
   "execution_count": null,
   "metadata": {
    "collapsed": true
   },
   "outputs": [],
   "source": [
    "color= ['red' if y == 1 else 'green' for y in np.squeeze(Y)]\n",
    "\n",
    "plt.figure(figsize=(7,5))\n",
    "plt.scatter(X[:,0], X[:,1], color=color)\n",
    "\n",
    "plt.show()"
   ]
  },
  {
   "cell_type": "code",
   "execution_count": 44,
   "metadata": {
    "collapsed": true
   },
   "outputs": [],
   "source": [
    "Y = Y.reshape(1,len(Y))# reshape Y to satisfy shape (m, 1)\n",
    "X = X.T #transpose X to satisfy shape (nx, m)"
   ]
  },
  {
   "cell_type": "markdown",
   "metadata": {},
   "source": [
    "## 6.2. Inicialicemos los parámetros W y b"
   ]
  },
  {
   "cell_type": "code",
   "execution_count": null,
   "metadata": {
    "collapsed": true
   },
   "outputs": [],
   "source": [
    "#1. inicilicemos parametros W y b\n",
    "m = X.shape[1]\n",
    "\n",
    "W = np.random.randn(X.shape[0],1)\n",
    "b = 0\n",
    "\n",
    "print(\"m: \", m)\n",
    "print(\"W inicial: \",W)\n",
    "print(\"b inicial: \",b)"
   ]
  },
  {
   "cell_type": "markdown",
   "metadata": {},
   "source": [
    "## 6.3. Apliquemos la regresión logística"
   ]
  },
  {
   "cell_type": "code",
   "execution_count": null,
   "metadata": {
    "collapsed": true
   },
   "outputs": [],
   "source": [
    "#2. Regresion logistica mediante descenso del gradiente\n",
    "\n",
    "learning_rate = 0.1\n",
    "\n",
    "for i in range(10000): #10000 iteraciones del descenso del gradiente\n",
    "    Z = None\n",
    "    A = None\n",
    "    dz = None\n",
    "    dW = None\n",
    "    db = None\n",
    "    J = None\n",
    "    \n",
    "    W -= None\n",
    "    b -= None\n",
    "    \n",
    "    if(i%1000 == 0):\n",
    "        print(\"costo: \", J)\n",
    "\n",
    "print(\"W actualizado: \",W)\n",
    "print(\"b actualizado: \",b)\n",
    "print(\"costo final (error), despues de \",i+1,\" iteraciones: \", J)"
   ]
  },
  {
   "cell_type": "code",
   "execution_count": null,
   "metadata": {
    "collapsed": true
   },
   "outputs": [],
   "source": [
    "print(predict(W,b,X))"
   ]
  },
  {
   "cell_type": "code",
   "execution_count": 45,
   "metadata": {
    "collapsed": true
   },
   "outputs": [],
   "source": [
    "def visualize_lr(W, b, X, y):\n",
    "    X = X.T\n",
    "    # Set min and max values and give it some padding\n",
    "    x_min, x_max = X[:, 0].min() - .5, X[:, 0].max() + .5\n",
    "    y_min, y_max = X[:, 1].min() - .5, X[:, 1].max() + .5\n",
    "    h = 0.01\n",
    "    # Generate a grid of points with distance h between them\n",
    "    xx, yy = np.meshgrid(np.arange(x_min, x_max, h), np.arange(y_min, y_max, h))\n",
    "    # Predict the function value for the whole gid\n",
    "    #Z = pred_func(W,b,np.c_[xx.ravel(), yy.ravel()])\n",
    "    Z = predict(W,b,np.c_[xx.ravel(), yy.ravel()].T)\n",
    "    Z = Z.reshape(xx.shape)\n",
    "    # Plot the contour and training examples\n",
    "    plt.figure(figsize=(7,5))\n",
    "    plt.contourf(xx, yy, Z, cmap=plt.cm.Spectral)\n",
    "    plt.scatter(X[:, 0], X[:, 1], c=y, cmap=plt.cm.Spectral)\n",
    "    plt.show()"
   ]
  },
  {
   "cell_type": "code",
   "execution_count": 5,
   "metadata": {
    "scrolled": true
   },
   "outputs": [
    {
     "ename": "NameError",
     "evalue": "name 'visualize_lr' is not defined",
     "output_type": "error",
     "traceback": [
      "\u001b[1;31m\u001b[0m",
      "\u001b[1;31mNameError\u001b[0mTraceback (most recent call last)",
      "\u001b[1;32m<ipython-input-5-f13a271d605e>\u001b[0m in \u001b[0;36m<module>\u001b[1;34m()\u001b[0m\n\u001b[1;32m----> 1\u001b[1;33m \u001b[0mvisualize_lr\u001b[0m\u001b[1;33m(\u001b[0m\u001b[0mW\u001b[0m\u001b[1;33m,\u001b[0m \u001b[0mb\u001b[0m\u001b[1;33m,\u001b[0m \u001b[0mX\u001b[0m\u001b[1;33m,\u001b[0m \u001b[0mY\u001b[0m\u001b[1;33m)\u001b[0m\u001b[1;33m\u001b[0m\u001b[0m\n\u001b[0m",
      "\u001b[1;31mNameError\u001b[0m: name 'visualize_lr' is not defined"
     ]
    }
   ],
   "source": [
    "visualize_lr(W, b, X, Y)"
   ]
  },
  {
   "cell_type": "code",
   "execution_count": 41,
   "metadata": {},
   "outputs": [
    {
     "data": {
      "image/png": "[encoded data removed]",
      "text/plain": [
       "<matplotlib.figure.Figure at 0xc5205c0>"
      ]
     },
     "metadata": {},
     "output_type": "display_data"
    }
   ],
   "source": [
    "import matplotlib.pyplot as plt\n",
    "import numpy as np\n",
    "\n",
    "\n",
    "z = np.linspace(-10,10,100)\n",
    "s_z = 1. / (1. + np.exp(-z))\n",
    "fig, ax = plt.subplots()\n",
    "ax.axhline(y=0,color='g')\n",
    "\n",
    "plt.xlabel(\"X\")\n",
    "plt.ylabel(\"Y\")\n",
    "plt.plot(z, s_z)\n",
    "\n",
    "plt.show()"
   ]
  },
  {
   "cell_type": "code",
   "execution_count": 40,
   "metadata": {},
   "outputs": [
    {
     "data": {
      "image/png": "[encoded data removed]",
      "text/plain": [
       "<matplotlib.figure.Figure at 0xc0cae10>"
      ]
     },
     "metadata": {},
     "output_type": "display_data"
    }
   ],
   "source": [
    "import matplotlib.pyplot as plt\n",
    "import numpy as np\n",
    "\n",
    "x = np.linspace(-10,10,100)\n",
    "y = x**2\n",
    "fig, ax = plt.subplots()\n",
    "ax.axhline(y=0,color='g')\n",
    "plt.xlabel(\"X\")\n",
    "plt.ylabel(\"Y\")\n",
    "plt.plot(x, y)\n",
    "plt.show()"
   ]
  },
  {
   "cell_type": "code",
   "execution_count": 61,
   "metadata": {
    "scrolled": true
   },
   "outputs": [
    {
     "data": {
      "image/png": "[encoded data removed]",
      "text/plain": [
       "<matplotlib.figure.Figure at 0xb6211d0>"
      ]
     },
     "metadata": {},
     "output_type": "display_data"
    }
   ],
   "source": [
    "import matplotlib.pyplot as plt\n",
    "plt.plot([1,2,3,4],[1,2,3,4])\n",
    "plt.show()"
   ]
  },
  {
   "cell_type": "code",
   "execution_count": 103,
   "metadata": {},
   "outputs": [
    {
     "data": {
      "image/png": "[encoded data removed]",
      "text/plain": [
       "<matplotlib.figure.Figure at 0xc8f0470>"
      ]
     },
     "metadata": {},
     "output_type": "display_data"
    }
   ],
   "source": [
    "import matplotlib.pyplot as plt\n",
    "import numpy as np\n",
    "\n",
    "x = np.linspace(0,2,10)\n",
    "y = x**2\n",
    "fig, ax = plt.subplots()\n",
    "ax.axhline(y=0,color='g')\n",
    "plt.xlabel(\"X\")\n",
    "plt.ylabel(\"Y\")\n",
    "plt.plot(x, y)\n",
    "plt.show()"
   ]
  },
  {
   "cell_type": "markdown",
   "metadata": {
    "collapsed": true
   },
   "source": [
    "Dado x, y,  $x\\epsilon R^{nx}$\n",
    "\n",
    "#### y = p(y=1|x)\n",
    "\n",
    "\n",
    "#### <span style=\"float:left;margin-top:100px\">Dado X =</span> <img width=\"420px\" style=\"float:left;padding-right:30px\" src=\"res/logistic_regression/logistic-graph_1.png\">\n",
    "<div style=\"margin-top:60px;\">\n",
    "    <ul style=\"margin-left:500px;font-size:20px\">\n",
    "       <li>$X\\epsilon R^{n_{x} xm}$</li>\n",
    "        <li>$Y\\epsilon R^{1xm}$</li>\n",
    "    </ul>\n",
    "</div>\n",
    "\n",
    "<br><br><br><br><br>\n",
    "<div>\n",
    "   <span>Sea $y = Wx + b$ donde $W \\epsilon  R^{nx}$, $b \\epsilon R$ un modelo lineal que permita modelar el determinante X, y si utilizamos una función logística como separador binario, entonces tenemos la regresión logística </span>\n",
    "   <hr>\n",
    "   <span style=\"font-weight:bolder;font-size:20px;padding-left:70px;\">\n",
    "    $y = \\sigma (\\frac{wx +b }{z})$\n",
    "    </span>\n",
    "  \n",
    "    <span style=\"font-weight:bolder;font-size:20px;padding-left:70px;color:red\">$\\sigma (z) = \\frac{1}{1+e{^{-z}}}$</span>\n",
    "     <img style=\"float:left\" src=\"res/logistic_regression/logistic-graph_2.png\">\n",
    "</div>\n",
    "<br>\n",
    "<div >   \n",
    "    <span style=\"color:green\"> W, b son parámetros del modelo, que deben ser hallados mediante un proceso de optimización </span>\n",
    "</div>\n",
    "<br><br><br><br><br><br><br><br><br><br><br><br>\n",
    "<div>\n",
    "    <h2 style=\"color:green\">Análisis $\\sigma (z)$</h2>\n",
    "    <br>\n",
    "    <p>Si Z grande $\\epsilon ^{-z} \\rightarrow 0 \\Rightarrow \\sigma (z) \\rightarrow 1$</p>\n",
    "    <p>Si Z pequeño (negativo) $\\epsilon ^{-z} \\rightarrow \\infty  \\Rightarrow \\sigma (z) \\rightarrow 0$</p>\n",
    "    <img src=\"res/logistic_regression/logistic-graph_3.png\">\n",
    "</div>\n"
   ]
  },
  {
   "cell_type": "markdown",
   "metadata": {},
   "source": [
    "## Función de costo\n",
    "<div>\n",
    "<br>\n",
    "    Dados\n",
    "    <span style=\"font-size:18px\">$\\left \\{ \\left ( x^{(1)}, y^{(1)} \\right ),( x^{(2)}, y^{(2)}),...,( x^{(m)}, y^{(m)})\\right \\} $</span>    \n",
    "    <p>Se desea \n",
    "    <span style=\"font-size:18px\">$\\hat{y}^{(i)} \\approx y^{(i)}$</span>, esto es: \n",
    "    <span style=\"font-size:18px;color:red\">$\\sigma \\left ( wx^{(i)}+b \\right )\\approx \\hat {y}^{(i)}$</span>\n",
    "    </p>\n",
    " </div>\n",
    " <br>\n",
    " <div >\n",
    "<div>\n",
    "    <p>Sea <b>J</b> una función de pérdida (lost)</p>\n",
    "    <br>\n",
    "    <span style=\"font-size:18px\">$J(\\hat{y},y) = \\frac{1}{2}\\left ( \\hat{y}-y \\right )^{2}$ = </span>\n",
    "    <img  src=\"res/logistic_regression/logistic-graph_4.png\">\n",
    "</div>"
   ]
  },
  {
   "cell_type": "markdown",
   "metadata": {},
   "source": [
    "<p>Utilizando reglas</p>\n",
    "    <br>\n",
    "        <span style=\"font-size:18px\">$J(\\hat{y},y) = -(y log \\hat{y})+(1-y)log(1-\\hat{y}) = $</span>\n",
    "        <img  src=\"res/logistic_regression/logistic-graph_5.png\">  "
   ]
  },
  {
   "cell_type": "markdown",
   "metadata": {},
   "source": [
    "<div >\n",
    "    <h2 style=\"color:green\">Análisis</h2>\n",
    "    <p>Si y = 1: $J(\\hat{y},y) = -log\\hat{y} \\leftarrow $ minimizar <b>J</b> entonces implica hacer $\\hat{y}$ grande</p>\n",
    "    <p>Si y = 0: $J(\\hat{y},y) = -log(1-\\hat{y}) \\leftarrow $ implica hacer $\\hat{y}$ pequeña</p>\n",
    "    <p>Ahora, aplicando la función de pérdida a todos los datos de <b>X</b>, tenemos la función de costo <b>J</b></p>\n",
    "    <p style=\"color:red\">$J(w,b) = \\frac{1}{m}\\sum_{i=1}^{m}J(\\hat{y}^{(i)},y) = -\\frac{1}{m}\\sum_{i=1}^{m}\\left \\lfloor y^{i}log\\hat{y}+(1-y)log(1-\\hat{y}) \\right \\rfloor $</p>\n",
    "</div>\n",
    "<br>\n",
    "<h2>Pregunta ¿?</h2>\n",
    "<br>\n",
    "¿Cuál es la diferencia entre la función de pérdida y la función de costo?"
   ]
  },
  {
   "cell_type": "markdown",
   "metadata": {},
   "source": [
    "<h2 style=\"color:green\">Optimización (Descenso del gradiente)</h2>\n",
    "<main style=\"height:100%\">\n",
    "<section >\n",
    "    <img style=\"float:left\" src=\"res/logistic_regression/logistic-graph_6.png\">\n",
    "    Se desea minimizar J(w,b)\n",
    "    <img  style=\"float:left\" src=\"res/logistic_regression/logistic-graph_7.png\">\n",
    "</section>\n",
    "\n",
    "<section style=\"margin-top:400px\">\n",
    "   <img style=\"float:left\" src=\"res/logistic_regression/logistic-graph_9.png\">    \n",
    "   <img style=\"margin-top:-25px\" src=\"res/logistic_regression/logistic-graph_10.png\">   \n",
    "</section>\n",
    "<section >\n",
    "   Para facilidad en la notación observemos que:\n",
    "   <br>\n",
    "   <div style=\"width:125px;height:100px;border:1px solid blue;font-size:20px;\">\n",
    "       <div>$\\frac{dj(w,b)}{dw} = dw$</div>\n",
    "       <br>\n",
    "       <div>$\\frac{dj(w,b)}{db} = db$</div>\n",
    "   </div>\n",
    "</section>\n",
    "<section>\n",
    "    <h2 style=\"color:green\">Concepto</h2>\n",
    "    <p>Supongamos la función $y = 2x = f(x) = 2x$ </p>\n",
    "    <img style=\"float:left\" src=\"res/logistic_regression/logistic-graph_8.png\">   \n",
    "    <div >\n",
    "        <p>Dados $\\Delta x = 0.001$</p>\n",
    "        <p>$x_{1}= 2$</p>\n",
    "        <p>$x_{2}= x_{1}+\\Delta x= 2.001$</p>\n",
    "        <p>Tenemos que $f(x_{1}) = 4$</p>\n",
    "        <p>$f(x_{2}) = 4.002$</p>\n",
    "        <p style=\"color:red;font-size:20px\">Pendiente $\\frac{h}{w} = \\frac{0.002}{0.001} = 2$</p>\n",
    "    </div>\n",
    "</section>\n",
    "</main>\n"
   ]
  },
  {
   "cell_type": "markdown",
   "metadata": {},
   "source": [
    "<p ><span style=\"color:red;font-size:20px\">$\\frac{df(x)}{dx} = 2$</span>, ahora supongamos $f(x) = x^{2}$</p>\n",
    "<p>para $x_{1}= 2$ $\\Delta x = 0.001$</p>\n",
    "<p>$x_{2}=x_{1}+ \\Delta x = 2.001$</p>\n",
    "<p>Tenemos que $f(x_{1}) = 4$</p>\n",
    "<p>$f(x_{2}) = 4.004$</p>\n",
    "<img style=\"float:left\" src=\"res/logistic_regression/logistic-graph_11.png\">   \n",
    "<p style=\"font-size:20px\">$m = \\frac{0.004}{0.001} = 4$ cuando x = 2</p>\n",
    "<div style=\"margin-top:250px\">\n",
    "<p>Para $x_{1} = 5$</p>\n",
    "<p style=\"font-size:15px\">$x_{2} = x_{1}+\\Delta x = 5.001$ tenemos que $f(x_{1}) = 25$ y  $f(x_{2}) = 25.010$</p>\n",
    "<p style=\"font-size:15px\">$m = \\frac{0.010}{0.001} = 10$ para x = 5</p>\n",
    "<p style=\"font-size:15px\">en general <span style=\"color:red\">$\\frac{df(x))}{dx} = 2x$ para $f(x) = x^{2}$</span></p>\n",
    "<p style=\"font-size:15px\">supongamos $f(x) = x^{3}$ para $x_{1} = 2$ y $x_{2} = 2.001$ tenemos que $f(x_{1})=5$ y $f(x_{2})=0.012$</p>\n",
    "<p style=\"font-size:15px\">$m = \\frac{0.012}{0.001} = 12$ para $x_{1} = 2$, <span style=\"color:red\">$\\frac{df(x)}{dx}= 3x^{2}$</span></p>\n",
    "<p style=\"font-size:15px\">Por definición: $\\Delta x=2$; $x_{1} = 2$ y $x_{2} = 4$; $f(x_{1})=8$ y $f(x_{2})=64$</p>\n",
    "<p style=\"font-size:15px\">$\\frac{df(x)}{dx} = \\lim  _{\\Delta x\\rightarrow 0} \\frac{f(x+\\Delta x)-f(x)}{\\Delta x} = \\frac{64-8}{2} = 28$</p>\n",
    "<p style=\"font-size:15px\">error = $\\Delta x$ es muy grande</p>\n",
    "</div>"
   ]
  },
  {
   "cell_type": "markdown",
   "metadata": {},
   "source": [
    "<h2 style=\"color:green\">Grafo de computación</h2>\n",
    "<div>\n",
    "    supongamos la siguiente función $f(x,y,z) = 3(x+yz)$ podemos agrupar las operaciones en forma de un grafo de cómputo\n",
    "   <p>\n",
    "    <img style=\"float:left;padding-right:20px\" src=\"res/logistic_regression/logistic-graph_12.png\">      \n",
    "    </p>\n",
    "    <p>\n",
    "    $\\mu $ = yz\n",
    "    </p>\n",
    "      <p>\n",
    "    $\\nu = x + \\mu $\n",
    "    </p>\n",
    "         <p>\n",
    "    $J = 3\\nu $\n",
    "    </p>   \n",
    "</div>\n",
    "<div style=\"float:left;margin-left:-200px;margin-top:80px\" >\n",
    "      <img src=\"res/logistic_regression/logistic-graph_13.png\">    \n",
    "</div>"
   ]
  },
  {
   "cell_type": "markdown",
   "metadata": {},
   "source": [
    "<h2 style=\"color:green\">Derivadas en un grafo de cómputo</h2>\n",
    "<div>\n",
    "    <p>Utilizando un grafo de cómputo de una función arbitraria f, es posible calcular la derivada de dicha función respecto a sus parámetros a través de la propagación hacia atrás:</p>\n",
    "    <p> <img width=\"700px\" style=\"float:left;padding-right:20px\" src=\"res/logistic_regression/logistic-graph_14.png\"> </p>\n",
    "    <div style=\"font-size:15px\">\n",
    "    <p >$\\frac{dJ}{dy} = \\frac{dJ}{d\\mu }.\\frac{d\\mu}{dy } = 3.z$</p>\n",
    "    <p >$\\frac{dJ}{d\\mu }= \\frac{dJ}{d\\nu  }.\\frac{d\\nu }{d\\mu } = 3$</p>\n",
    "    <p >$ \\frac{dJ}{d\\nu} = 3$</p>\n",
    "    <p >$\\frac{dJ}{dz} = \\frac{d\\mu }{dz}.\\frac{dJ }{d\\mu } = 3y$</p>\n",
    "    <p >$\\frac{dJ}{dx} = \\frac{dJ}{d\\nu }.\\frac{d\\nu }{dx } = 3.1$</p>     \n",
    "    </div>\n",
    "</div>"
   ]
  },
  {
   "cell_type": "markdown",
   "metadata": {},
   "source": [
    "<div>\n",
    "<img   src=\"res/logistic_regression/logistic-graph_15.png\"> \n",
    "</div>    "
   ]
  },
  {
   "cell_type": "markdown",
   "metadata": {},
   "source": [
    "<h3>Asignando los valores de entrada, tenemos que:</h3>\n",
    "<div>    \n",
    "<img   src=\"res/logistic_regression/logistic-graph_16.png\"> \n",
    "</div>\n",
    "<h3 style=\"color:green\">Resumen</h3>\n",
    "<p>Propagación hacia adelante:<b>Izquierda - derecha</b></p>\n",
    "<p>Propagación hacia atrás:<b>Derecha - izquierda</b></p>"
   ]
  },
  {
   "cell_type": "markdown",
   "metadata": {},
   "source": [
    "<h2 style=\"color:green\">Gradiente descendente sobre la gráfica para regresión logística</h2>\n",
    "<h4 >Recordemos</h4>\n",
    "<p style=\"font-size:18px\">$\\sigma (z) = \\frac{1}{1+e^{-z}}$</p>\n",
    "<p style=\"font-size:18px\">$J(y,\\hat{y})= -(ylog(\\hat{y})+(1-y)log(1-\\hat{y}))$</p>\n",
    "<p style=\"font-size:18px\">$\\hat{y} = \\sigma (wx + b) = a$</p>\n",
    "<p style=\"font-size:20px;color:red\">$\\frac{dJ}{da} = da = -\\frac{y}{a} + \\frac{1-y}{1-a}$</p>\n",
    "<img  style=\"float:left\" src=\"res/logistic_regression/logistic-graph_17.png\"> "
   ]
  },
  {
   "cell_type": "markdown",
   "metadata": {},
   "source": [
    "<p style=\"font-size:18px\">$\\frac{dJ}{dz} = dz = \\frac{dJ}{da}.\\frac{da}{dz} = \\frac{y}{a}+\\frac{1-y}{1-a}. a(1-a)$</p>\n",
    "<p style=\"font-size:18px\">$= - a(1-a)\\frac{y}{a} + \\frac{(1-y)a(1-a)}{(1-a)} = -(1-a)y + (1-y)a$</p>\n",
    "<p style=\"font-size:18px\">$- y + ay + a-ay = a-y$ => <span style=\"color:green\">dz = a-y</span></p>\n",
    "<p style=\"font-size:18px\">$\\frac{dJ}{dw_{1}} = \\frac{dJ}{da}.\\frac{da}{dz}.\\frac{dz}{dw_{1}} = dzdw_{1}$</p>\n",
    "<p style=\"font-size:18px\"><span style=\"color:green\">$dw_{1} = x_{1}dz$</span></p>\n",
    "<p style=\"font-size:18px\"><span style=\"color:green\">$dw_{1} = x_{2}dz$</span></p>\n",
    "<p style=\"font-size:18px\"><span style=\"color:green\">$db = dz$</span></p>"
   ]
  },
  {
   "cell_type": "markdown",
   "metadata": {},
   "source": [
    "<p>Entonces el descenso del gradiente para un dato (ejemplo)</p>\n",
    "\n",
    "<img  style=\"float:left\" src=\"res/logistic_regression/logistic-graph_18.png\"> \n"
   ]
  },
  {
   "cell_type": "markdown",
   "metadata": {},
   "source": [
    "<p>Para calcular el descenso del gradiente para un ejemplo, utilizamos el costo:</p>\n",
    "<p style=\"font-size:18px\">$J(w,b) = \\frac{1}{m}\\sum_{j=1}^{m} J(a^{(i)},y^{(i)}) $</p>\n",
    "<p style=\"font-size:18px\">Donde: $a^{(i)} = \\hat{y}^{(i)} = \\sigma (z^{(i)}) = \\sigma (wx + b)$</p>\n",
    "<p style=\"font-size:18px\"><span style=\"color:red\">$\\frac{d}{dw_{1}}J(w,b)= \\frac{1}{m}\\sum_{i=1}^{m}\\frac{d}{dw_{1}}J(a^{(i)},y^{(i)})$</span> => promedio de la derivada individual</p>\n",
    "<p>J = 0; $dw_{1} =0$; $dw_{2} =0$; db = 0 </p>\n",
    "<div style=\"color:green;\">\n",
    "    <p>for i = 1 hasta m {</p>\n",
    "    <p style=\"margin-left:20px\">$z^{(i)} = wx^{(i)} + b$</p>\n",
    "    <p style=\"margin-left:20px\">$a^{i} = \\sigma (z^{(i)})$</p>\n",
    "    <p style=\"margin-left:20px\">$dz = a^{(i)}-y^{(i)}$</p>\n",
    "    <p style=\"margin-left:20px\">$dw_{1} += x_{1}^{(i)}dz$</p>\n",
    "    <p style=\"margin-left:20px\">$dw_{2} += x_{2}^{(i)}dz$</p>\n",
    "    <p style=\"margin-left:20px\">$db += dz$</p>\n",
    "    <p >}</p>\n",
    "    <p >$w_{1} -= \\propto dw_{1}/m$</p>\n",
    "    <p >$w_{2} -= \\propto dw_{2}/m$</p>\n",
    "    <p >$b -= \\propto db/m$</p>\n",
    "</div>"
   ]
  },
  {
   "cell_type": "code",
   "execution_count": null,
   "metadata": {
    "collapsed": true
   },
   "outputs": [],
   "source": []
  }
 ],
 "metadata": {
  "kernelspec": {
   "display_name": "Python 2",
   "language": "python",
   "name": "python2"
  },
  "language_info": {
   "codemirror_mode": {
    "name": "ipython",
    "version": 2
   },
   "file_extension": ".py",
   "mimetype": "text/x-python",
   "name": "python",
   "nbconvert_exporter": "python",
   "pygments_lexer": "ipython2",
   "version": "2.7.14"
  }
 },
 "nbformat": 4,
 "nbformat_minor": 2
}
